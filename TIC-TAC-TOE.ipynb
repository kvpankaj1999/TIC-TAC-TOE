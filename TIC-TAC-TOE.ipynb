{
 "cells": [
  {
   "cell_type": "code",
   "execution_count": 1,
   "metadata": {},
   "outputs": [],
   "source": [
    "from IPython.display import clear_output\n",
    "\n",
    "\n",
    "def print_board(board,board1):\n",
    "    clear_output()\n",
    "    print(\"Empty places in the board as of now\")\n",
    "    print('          |   |')\n",
    "    print('        ' + board1[7] + ' | ' + board1[8] + ' | ' + board1[9])\n",
    "    print('          |   |')\n",
    "    print('       -----------')\n",
    "    print('          |   |')\n",
    "    print('        ' + board1[4] + ' | ' + board1[5] + ' | ' + board1[6])\n",
    "    print('          |   |')\n",
    "    print('       -----------')\n",
    "    print('          |   |')\n",
    "    print('        ' + board1[1] + ' | ' + board1[2] + ' | ' + board1[3])\n",
    "    print('          |   |')\n",
    "    print(\"--------------------------\")\n",
    "    print(\"Cuurently filled board\")\n",
    "    print('          |   |')\n",
    "    print('        ' + board[7] + ' | ' + board[8] + ' | ' + board[9])\n",
    "    print('          |   |')\n",
    "    print('       -----------')\n",
    "    print('          |   |')\n",
    "    print('        ' + board[4] + ' | ' + board[5] + ' | ' + board[6])\n",
    "    print('          |   |')\n",
    "    print('       -----------')\n",
    "    print('          |   |')\n",
    "    print('        ' + board[1] + ' | ' + board[2] + ' | ' + board[3])\n",
    "    print('          |   |')\n",
    "   \n",
    "    board=[0,\"1\",\"2\",\"3\",\"4\",\"5\",\"6\",\"7\",\"8\",\"9\"]\n",
    "board1=[0,\"1\",\"2\",\"3\",\"4\",\"5\",\"6\",\"7\",\"8\",\"9\"]"
   ]
  },
  {
   "cell_type": "code",
   "execution_count": 2,
   "metadata": {},
   "outputs": [],
   "source": [
    "def player_input():\n",
    "    marker=\"\"\n",
    "    while marker!=\"X\" and marker!=\"O\":\n",
    "        marker=input(\"Player 1 choose either X or O : \").upper()\n",
    "    player1=marker\n",
    "    if player1==\"X\":\n",
    "        player2=\"O\"\n",
    "    else:\n",
    "        player2=\"X\"\n",
    "    print(f\"Player1 : {player1}\")\n",
    "    print(f\"Player2 : {player2}\")\n",
    "    return (player1,player2)"
   ]
  },
  {
   "cell_type": "code",
   "execution_count": 3,
   "metadata": {},
   "outputs": [],
   "source": [
    "board=[\"\"]*10\n",
    "def player_choice(board):\n",
    "    position=int(input(\"Enter the location(1-9) where you want to place a Marker : \"))\n",
    "    while position not in [1,2,3,4,5,6,7,8,9] or not space_check(board,position):\n",
    "        position=int(input(\"Enter the location(1-9) where you want to place a Marker : \"))\n",
    "    return position\n",
    "def place_marker(board,position,marker,board1):\n",
    "    board[position]=marker\n",
    "    board1[position]=\" \""
   ]
  },
  {
   "cell_type": "code",
   "execution_count": 4,
   "metadata": {},
   "outputs": [],
   "source": [
    "def win_check(board,mark):\n",
    "    return ((board[1]==board[2]==board[3]==mark) or (board[4]==board[5]==board[6]==mark) or (board[7]==board[8]==board[9]==mark) or (board[1]==board[4]==board[7]==mark) or (board[2]==board[5]==board[8]==mark) or (board[3]==board[6]==board[9]==mark) or (board[1]==board[5]==board[9]==mark) or (board[3]==board[5]==board[7]==mark))\n",
    "    "
   ]
  },
  {
   "cell_type": "code",
   "execution_count": null,
   "metadata": {},
   "outputs": [],
   "source": [
    "import random\n",
    "def rand_decide():\n",
    "    flip=random.randint(0,1)\n",
    "    if flip==0:\n",
    "        return \"Player 1\"\n",
    "    else:\n",
    "        return \"Player 2\"\n",
    "    "
   ]
  },
  {
   "cell_type": "code",
   "execution_count": null,
   "metadata": {},
   "outputs": [],
   "source": [
    "def space_check(board,position):\n",
    "    return board[position]==\" \""
   ]
  },
  {
   "cell_type": "code",
   "execution_count": null,
   "metadata": {},
   "outputs": [],
   "source": [
    "def full_board(board):\n",
    "    for i in range(1,10):\n",
    "        if space_check(board,i):\n",
    "            return False\n",
    "    return True"
   ]
  },
  {
   "cell_type": "code",
   "execution_count": null,
   "metadata": {},
   "outputs": [],
   "source": [
    "def player_choice(board):\n",
    "    if turn==\"Player 1\":\n",
    "        position=int(input(\"Player 1 enter a location(1-9) where you want to place a Marker : \"))\n",
    "        while position not in [1,2,3,4,5,6,7,8,9] or not space_check(board,position):\n",
    "            position=int(input(\"Player 1 enter a location(1-9) where you want to place a Marker : \"))\n",
    "        return position\n",
    "    else:\n",
    "        position=int(input(\"Player 2 enter a location(1-9) where you want to place a Marker : \"))\n",
    "        while position not in [1,2,3,4,5,6,7,8,9] or not space_check(board,position):\n",
    "            position=int(input(\"Player 2 enter a location(1-9) where you want to place a Marker : \"))\n",
    "        return position\n",
    "        "
   ]
  },
  {
   "cell_type": "code",
   "execution_count": null,
   "metadata": {},
   "outputs": [],
   "source": [
    "def replay():\n",
    "    choice=input(\"Enter Y to play again and N to close game\").upper()\n",
    "    if choice==\"N\":\n",
    "        print(\"Closing the game\")\n",
    "    return choice==\"Y\""
   ]
  },
  {
   "cell_type": "code",
   "execution_count": null,
   "metadata": {},
   "outputs": [
    {
     "name": "stdout",
     "output_type": "stream",
     "text": [
      "Empty places in the board as of now\n",
      "          |   |\n",
      "        7 | 8 | 9\n",
      "          |   |\n",
      "       -----------\n",
      "          |   |\n",
      "        4 | 5 | 6\n",
      "          |   |\n",
      "       -----------\n",
      "          |   |\n",
      "        1 | 2 | 3\n",
      "          |   |\n",
      "--------------------------\n",
      "Cuurently filled board\n",
      "          |   |\n",
      "          |   |  \n",
      "          |   |\n",
      "       -----------\n",
      "          |   |\n",
      "          |   |  \n",
      "          |   |\n",
      "       -----------\n",
      "          |   |\n",
      "          |   |  \n",
      "          |   |\n"
     ]
    }
   ],
   "source": [
    "print(\"Welcome to the TIC TAC TOE Game\")\n",
    "game=int(input(\"Enter 1 to play the game\"))\n",
    "while game:\n",
    "    board=[\" \"]*10\n",
    "    board1=[0,\"1\",\"2\",\"3\",\"4\",\"5\",\"6\",\"7\",\"8\",\"9\"]\n",
    "    print_board(board,board1)\n",
    "    player1_marker,player2_marker=player_input()\n",
    "    turn=rand_decide()\n",
    "    print(f\"{turn} will play first\")\n",
    "    play_game=input(\"Are you ready!!! Yes or No\").lower()\n",
    "    if play_game[0]==\"y\":\n",
    "        game_on=True\n",
    "    else:\n",
    "        game_on=False\n",
    "    while game_on:\n",
    "        if turn==\"Player 1\":\n",
    "            print_board(board,board1)\n",
    "            position=player_choice(board)\n",
    "            place_marker(board,position,player1_marker,board1)\n",
    "            if win_check(board,player1_marker):\n",
    "                print_board(board,board1)\n",
    "                print(\"Player 1 Wins!!!!\")\n",
    "                game_on=False\n",
    "            else:\n",
    "                if full_board(board):\n",
    "                    print_board(board)\n",
    "                    print(\"TIE GAME!!!!\")\n",
    "                    game_on=False\n",
    "                else:\n",
    "                    turn=\"Player 2\"\n",
    "                    print(\"Chance of player 2\")\n",
    "        if turn==\"Player 2\":\n",
    "            print_board(board,board1)\n",
    "            position=player_choice(board)\n",
    "            place_marker(board,position,player2_marker,board1)\n",
    "            if win_check(board,player2_marker):\n",
    "                print_board(board,board1)\n",
    "                print(\"Player 2 Wins!!!!\")\n",
    "                game_on=False\n",
    "            else:\n",
    "                if full_board(board):\n",
    "                    print_board(board)\n",
    "                    print(\"TIE GAME!!!!\")\n",
    "                    game_on=False\n",
    "                else:\n",
    "                    turn=\"Player 1\"\n",
    "                    print(\"Chance of player 1\")\n",
    "    if not replay():\n",
    "        break"
   ]
  },
  {
   "cell_type": "code",
   "execution_count": null,
   "metadata": {},
   "outputs": [],
   "source": []
  }
 ],
 "metadata": {
  "kernelspec": {
   "display_name": "Python 3",
   "language": "python",
   "name": "python3"
  },
  "language_info": {
   "codemirror_mode": {
    "name": "ipython",
    "version": 3
   },
   "file_extension": ".py",
   "mimetype": "text/x-python",
   "name": "python",
   "nbconvert_exporter": "python",
   "pygments_lexer": "ipython3",
   "version": "3.7.0"
  }
 },
 "nbformat": 4,
 "nbformat_minor": 2
}
